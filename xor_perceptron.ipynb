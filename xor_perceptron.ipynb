{
 "cells": [
  {
   "cell_type": "markdown",
   "metadata": {},
   "source": [
    "# Quiz: Build an XOR Multi-Layer Perceptron"
   ]
  },
  {
   "cell_type": "markdown",
   "metadata": {},
   "source": [
    "# Problem"
   ]
  },
  {
   "cell_type": "markdown",
   "metadata": {},
   "source": [
    "Let's build a multi-layer perceptron from the AND, NOT, and OR perceptrons to create XOR logic. The XOR perceptron should behave as follows:"
   ]
  },
  {
   "cell_type": "markdown",
   "metadata": {},
   "source": [
    "| IN  | IN  | OUT    |\n",
    "| :-: | :-: | :-:    |\n",
    "|  0  |  0  |  False |\n",
    "|  0  |  1  |  True  |\n",
    "|  1  |  0  |  True  |\n",
    "|  1  |  1  |  False |"
   ]
  },
  {
   "cell_type": "markdown",
   "metadata": {},
   "source": [
    "## Solution"
   ]
  },
  {
   "cell_type": "markdown",
   "metadata": {},
   "source": [
    "We first import the pandas module."
   ]
  },
  {
   "cell_type": "code",
   "execution_count": 2,
   "metadata": {},
   "outputs": [],
   "source": [
    "import pandas as pd"
   ]
  },
  {
   "cell_type": "markdown",
   "metadata": {},
   "source": [
    "Next, we define functions for `and_perceptron`, `or_perceptron`, and `not_perceptron`."
   ]
  },
  {
   "cell_type": "code",
   "execution_count": 4,
   "metadata": {},
   "outputs": [],
   "source": [
    "def and_perceptron(test_inputs):\n",
    "    weight1 = 0.5\n",
    "    weight2 = 0.5\n",
    "    bias = -0.6\n",
    "    linear_combination = weight1 * test_inputs[0] + weight2 * test_inputs[1] + bias\n",
    "    output = int(linear_combination >= 0)\n",
    "    return output\n",
    "\n",
    "def or_perceptron(test_inputs):\n",
    "    weight1 = 0.5\n",
    "    weight2 = 0.5\n",
    "    bias = -0.5\n",
    "    linear_combination = weight1 * test_inputs[0] + weight2 * test_inputs[1] + bias\n",
    "    output = int(linear_combination >= 0)\n",
    "    return output\n",
    "\n",
    "def not_perceptron(test_inputs):\n",
    "    weight1 = 0.0\n",
    "    weight2 = -1.0\n",
    "    bias = 0.9\n",
    "    linear_combination = weight1 * test_inputs[0] + weight2 * test_inputs[1] + bias\n",
    "    output = int(linear_combination >= 0)\n",
    "    return output"
   ]
  },
  {
   "cell_type": "markdown",
   "metadata": {},
   "source": [
    "The XOR perceptron can be implemented as a multi-layer perceptron as follows:"
   ]
  },
  {
   "cell_type": "markdown",
   "metadata": {},
   "source": [
    "<img src=\"xor_quiz.png\">"
   ]
  },
  {
   "cell_type": "markdown",
   "metadata": {},
   "source": [
    "The correct operations for the XOR neural network is as follows:"
   ]
  },
  {
   "cell_type": "markdown",
   "metadata": {},
   "source": [
    "| PERCEPTRON   | OPERATORS  |\n",
    "| :----------: | :--------: |\n",
    "|  A           |  AND       |\n",
    "|  B           |  OR        | \n",
    "|  C           |  NOT       |   "
   ]
  },
  {
   "cell_type": "markdown",
   "metadata": {},
   "source": [
    "Using the prior function definitions, we define a `xor_perceptron` as follows:"
   ]
  },
  {
   "cell_type": "code",
   "execution_count": 6,
   "metadata": {},
   "outputs": [],
   "source": [
    "def xor_perceptron(test_inputs):\n",
    "    and_output = and_perceptron(test_inputs)\n",
    "    or_output = or_perceptron(test_inputs)\n",
    "    not_input = (0,and_output)\n",
    "    not_output = not_perceptron(not_input)\n",
    "    and_input = (not_output,or_output)\n",
    "    xor_output = and_perceptron(and_input)\n",
    "    return xor_output"
   ]
  },
  {
   "cell_type": "markdown",
   "metadata": {},
   "source": [
    "We define variables to hold the test input, the correct outputs, and actual outputs."
   ]
  },
  {
   "cell_type": "code",
   "execution_count": 9,
   "metadata": {},
   "outputs": [],
   "source": [
    "test_inputs = [(0,0), (0,1), (1,0), (1,1)]\n",
    "correct_outputs = [False, True, True, False]\n",
    "outputs = []"
   ]
  },
  {
   "cell_type": "markdown",
   "metadata": {},
   "source": [
    "For each test input, we evaluate the XOR neural network. Then, we check the output."
   ]
  },
  {
   "cell_type": "code",
   "execution_count": 10,
   "metadata": {},
   "outputs": [],
   "source": [
    "for test_input, correct_output in zip(test_inputs, correct_outputs):\n",
    "    xor_output = xor_perceptron(test_input)\n",
    "    is_correct_string = 'Yes' if xor_output == correct_output else 'No'\n",
    "    outputs.append([test_input[0], test_input[1], xor_output, is_correct_string])"
   ]
  },
  {
   "cell_type": "markdown",
   "metadata": {},
   "source": [
    "Finally, we print the output."
   ]
  },
  {
   "cell_type": "code",
   "execution_count": 12,
   "metadata": {},
   "outputs": [
    {
     "name": "stdout",
     "output_type": "stream",
     "text": [
      "Nice!  You got it all correct.\n",
      "\n",
      " Input 1    Input 2    Activation Output   Is Correct\n",
      "       0          0                    0          Yes\n",
      "       0          1                    1          Yes\n",
      "       1          0                    1          Yes\n",
      "       1          1                    0          Yes\n"
     ]
    }
   ],
   "source": [
    "num_wrong = len([output[3] for output in outputs if output[3] == 'No'])\n",
    "output_frame = pd.DataFrame(outputs, columns=['Input 1', '  Input 2', '  Activation Output', '  Is Correct'])\n",
    "if not num_wrong:\n",
    "    print('Nice!  You got it all correct.\\n')\n",
    "else:\n",
    "    print('You got {} wrong.  Keep trying!\\n'.format(num_wrong))\n",
    "print(output_frame.to_string(index=False))"
   ]
  },
  {
   "cell_type": "code",
   "execution_count": null,
   "metadata": {},
   "outputs": [],
   "source": []
  }
 ],
 "metadata": {
  "kernelspec": {
   "display_name": "Python 3",
   "language": "python",
   "name": "python3"
  },
  "language_info": {
   "codemirror_mode": {
    "name": "ipython",
    "version": 3
   },
   "file_extension": ".py",
   "mimetype": "text/x-python",
   "name": "python",
   "nbconvert_exporter": "python",
   "pygments_lexer": "ipython3",
   "version": "3.7.6"
  }
 },
 "nbformat": 4,
 "nbformat_minor": 4
}
