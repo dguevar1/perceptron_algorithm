{
 "cells": [
  {
   "cell_type": "markdown",
   "metadata": {},
   "source": [
    "# Lesson 3: Perceptron Algorithm"
   ]
  },
  {
   "cell_type": "markdown",
   "metadata": {},
   "source": [
    "## Problem"
   ]
  },
  {
   "cell_type": "markdown",
   "metadata": {},
   "source": [
    "Implement the perceptron algorithm to separate the data given in file data.csv.\n",
    "\n",
    "Recall that the perceptron step works as follows. For a point with coordinates (p,q), label y, and prediction given by the equation y_hat = step(w_1x_1 + w_2x_2 + b):\n",
    "- If the point is correctly classified, do nothing.\n",
    "- If the point is classified positive, but it has a negative label, subtract alaph_p, alpha_q, and alpha from w_1, w_2, and b respectively.\n",
    "- If the point is classified negative, but it has a positive label, and alpha_p, alpha_q, and alpha to w_1, w_2, and b respectively.\n",
    "\n",
    "We starty by importing `numpy` and providing a random seed."
   ]
  },
  {
   "cell_type": "code",
   "execution_count": 114,
   "metadata": {},
   "outputs": [],
   "source": [
    "import numpy as np\n",
    "import pandas as pd\n",
    "import matplotlib\n",
    "import matplotlib.pyplot as plt\n",
    "np.random.seed(42)"
   ]
  },
  {
   "cell_type": "markdown",
   "metadata": {},
   "source": [
    "Next, we define the `stepFunction` function:"
   ]
  },
  {
   "cell_type": "code",
   "execution_count": 115,
   "metadata": {},
   "outputs": [],
   "source": [
    "def stepFunction(t):\n",
    "    if t >= 0:\n",
    "        return 1\n",
    "    return 0"
   ]
  },
  {
   "cell_type": "markdown",
   "metadata": {},
   "source": [
    "We define the `prediction` function:"
   ]
  },
  {
   "cell_type": "code",
   "execution_count": 116,
   "metadata": {},
   "outputs": [],
   "source": [
    "def prediction (X, W, b):\n",
    "    return stepFunction((np.matmul(X,W)+b)[0])"
   ]
  },
  {
   "cell_type": "markdown",
   "metadata": {},
   "source": [
    "The `perceptronStep` function should receive as inputs the data X, the labels y, the weights W (as an array), and the bias b. Update the weights and bias according to the perceptron algorithm. Finally, return W and b."
   ]
  },
  {
   "cell_type": "code",
   "execution_count": 117,
   "metadata": {},
   "outputs": [],
   "source": [
    "def perceptronStep(X, y, W, b, learn_rate = 0.01):\n",
    "    for i in range(len(X)):\n",
    "        y_hat = prediction(X[i],W,b)\n",
    "        if y[i] - y_hat == 1:\n",
    "            W[0] += X[i][0]*learn_rate\n",
    "            W[1] += X[i][1]*learn_rate\n",
    "            b += learn_rate\n",
    "        elif y[i]-y_hat == -1:\n",
    "            W[0] -= X[i][0]*learn_rate\n",
    "            W[1] -= X[i][1]*learn_rate\n",
    "            b -= learn_rate\n",
    "    return W, b"
   ]
  },
  {
   "cell_type": "markdown",
   "metadata": {},
   "source": [
    "The `trainPerceptronAlgorithm` function runs the perceptron algorithm repeatedly on the dataset, and returns a few of the boundary lines obtained in the iterationss, for plotting purposes."
   ]
  },
  {
   "cell_type": "code",
   "execution_count": 118,
   "metadata": {},
   "outputs": [],
   "source": [
    "def trainPerceptronAlgorithm(X, y, learn_rate = 0.01, num_epochs = 25):\n",
    "    x_min, x_max = min(X.T[0]), max(X.T[0])\n",
    "    y_min, y_max = min(X.T[1]), max(X.T[1])\n",
    "    W = np.array(np.random.rand(2,1))\n",
    "    b = np.random.rand(1)[0] + x_max\n",
    "    # These are the solution lines that get plottebd below.\n",
    "    boundary_lines = []\n",
    "    for i in range(num_epochs):\n",
    "        # In each epoch, we apply the perceptron step.\n",
    "        W, b = perceptronStep(X, y, W, b, learn_rate)\n",
    "        boundary_lines.append((-W[0]/W[1], -b/W[1]))\n",
    "    return boundary_lines"
   ]
  },
  {
   "cell_type": "code",
   "execution_count": 119,
   "metadata": {},
   "outputs": [
    {
     "name": "stdout",
     "output_type": "stream",
     "text": [
      "[[ 0.78051   -0.063669 ]\n",
      " [ 0.28774    0.29139  ]\n",
      " [ 0.40714    0.17878  ]\n",
      " [ 0.2923     0.4217   ]\n",
      " [ 0.50922    0.35256  ]\n",
      " [ 0.27785    0.10802  ]\n",
      " [ 0.27527    0.33223  ]\n",
      " [ 0.43999    0.31245  ]\n",
      " [ 0.33557    0.42984  ]\n",
      " [ 0.23448    0.24986  ]\n",
      " [ 0.0084492  0.13658  ]\n",
      " [ 0.12419    0.33595  ]\n",
      " [ 0.25644    0.42624  ]\n",
      " [ 0.4591     0.40426  ]\n",
      " [ 0.44547    0.45117  ]\n",
      " [ 0.42218    0.20118  ]\n",
      " [ 0.49563    0.21445  ]\n",
      " [ 0.30848    0.24306  ]\n",
      " [ 0.39707    0.44438  ]\n",
      " [ 0.32945    0.39217  ]\n",
      " [ 0.40739    0.40271  ]\n",
      " [ 0.3106     0.50702  ]\n",
      " [ 0.49638    0.45384  ]\n",
      " [ 0.10073    0.32053  ]\n",
      " [ 0.69907    0.37307  ]\n",
      " [ 0.29767    0.69648  ]\n",
      " [ 0.15099    0.57341  ]\n",
      " [ 0.16427    0.27759  ]\n",
      " [ 0.33259    0.055964 ]\n",
      " [ 0.53741    0.28637  ]\n",
      " [ 0.19503    0.36879  ]\n",
      " [ 0.40278    0.035148 ]\n",
      " [ 0.21296    0.55169  ]\n",
      " [ 0.48447    0.56991  ]\n",
      " [ 0.25476    0.34596  ]\n",
      " [ 0.21726    0.28641  ]\n",
      " [ 0.67078    0.46538  ]\n",
      " [ 0.3815     0.4622   ]\n",
      " [ 0.53838    0.32774  ]\n",
      " [ 0.4849     0.26071  ]\n",
      " [ 0.37095    0.38809  ]\n",
      " [ 0.54527    0.63911  ]\n",
      " [ 0.32149    0.12007  ]\n",
      " [ 0.42216    0.61666  ]\n",
      " [ 0.10194    0.060408 ]\n",
      " [ 0.15254    0.2168   ]\n",
      " [ 0.45558    0.43769  ]\n",
      " [ 0.28488    0.52142  ]\n",
      " [ 0.27633    0.21264  ]\n",
      " [ 0.39748    0.31902  ]\n",
      " [ 0.5533     1.       ]\n",
      " [ 0.44274    0.59205  ]\n",
      " [ 0.85176    0.6612   ]\n",
      " [ 0.60436    0.86605  ]\n",
      " [ 0.68243    0.48301  ]\n",
      " [ 1.         0.76815  ]\n",
      " [ 0.72989    0.8107   ]\n",
      " [ 0.67377    0.77975  ]\n",
      " [ 0.78761    0.58177  ]\n",
      " [ 0.71442    0.7668   ]\n",
      " [ 0.49379    0.54226  ]\n",
      " [ 0.78974    0.74233  ]\n",
      " [ 0.67905    0.60921  ]\n",
      " [ 0.6642     0.72519  ]\n",
      " [ 0.79396    0.56789  ]\n",
      " [ 0.70758    0.76022  ]\n",
      " [ 0.59421    0.61857  ]\n",
      " [ 0.49364    0.56224  ]\n",
      " [ 0.77707    0.35025  ]\n",
      " [ 0.79785    0.76921  ]\n",
      " [ 0.70876    0.96764  ]\n",
      " [ 0.69176    0.60865  ]\n",
      " [ 0.66408    0.92075  ]\n",
      " [ 0.65973    0.66666  ]\n",
      " [ 0.64574    0.56845  ]\n",
      " [ 0.89639    0.7085   ]\n",
      " [ 0.85476    0.63167  ]\n",
      " [ 0.62091    0.80424  ]\n",
      " [ 0.79057    0.56108  ]\n",
      " [ 0.58935    0.71582  ]\n",
      " [ 0.56846    0.7406   ]\n",
      " [ 0.65912    0.71548  ]\n",
      " [ 0.70938    0.74041  ]\n",
      " [ 0.59154    0.62927  ]\n",
      " [ 0.45829    0.4641   ]\n",
      " [ 0.79982    0.74847  ]\n",
      " [ 0.60974    0.54757  ]\n",
      " [ 0.68127    0.86985  ]\n",
      " [ 0.76694    0.64736  ]\n",
      " [ 0.69048    0.83058  ]\n",
      " [ 0.68122    0.96541  ]\n",
      " [ 0.73229    0.64245  ]\n",
      " [ 0.76145    0.60138  ]\n",
      " [ 0.58985    0.86955  ]\n",
      " [ 0.73145    0.74516  ]\n",
      " [ 0.77029    0.7014   ]\n",
      " [ 0.73156    0.71782  ]\n",
      " [ 0.44556    0.57991  ]\n",
      " [ 0.85275    0.85987  ]\n",
      " [ 0.51912    0.62359  ]]\n"
     ]
    }
   ],
   "source": [
    "train_data = pd.read_csv('data.csv', header = None)\n",
    "X = train_data.iloc[:,:-1]\n",
    "X = X.values.reshape(100,2)\n",
    "print(X)"
   ]
  },
  {
   "cell_type": "code",
   "execution_count": 120,
   "metadata": {},
   "outputs": [
    {
     "name": "stdout",
     "output_type": "stream",
     "text": [
      "0     1\n",
      "1     1\n",
      "2     1\n",
      "3     1\n",
      "4     1\n",
      "     ..\n",
      "95    0\n",
      "96    0\n",
      "97    0\n",
      "98    0\n",
      "99    0\n",
      "Name: 2, Length: 100, dtype: int64\n"
     ]
    }
   ],
   "source": [
    "y = train_data.iloc[:,-1]\n",
    "print(y)"
   ]
  },
  {
   "cell_type": "code",
   "execution_count": 121,
   "metadata": {},
   "outputs": [
    {
     "data": {
      "text/plain": [
       "<matplotlib.collections.PathCollection at 0x1df4332f248>"
      ]
     },
     "execution_count": 121,
     "metadata": {},
     "output_type": "execute_result"
    },
    {
     "data": {
      "image/png": "[encoded data removed]",
      "text/plain": [
       "<Figure size 432x288 with 1 Axes>"
      ]
     },
     "metadata": {
      "needs_background": "light"
     },
     "output_type": "display_data"
    }
   ],
   "source": [
    "colors = ['red','blue']\n",
    "plt.scatter(X[:,0],X[:,1], c=y, cmap=matplotlib.colors.ListedColormap(colors))"
   ]
  },
  {
   "cell_type": "code",
   "execution_count": 122,
   "metadata": {},
   "outputs": [
    {
     "name": "stdout",
     "output_type": "stream",
     "text": [
      "[(array([-0.05239463]), array([-2.04919443])), (array([1.23772563]), array([-2.90815949])), (array([-39.47663703]), array([23.57864461])), (array([-13.13237331]), array([7.06473087])), (array([-9.11612538]), array([4.57527519])), (array([-7.79056954]), array([3.96940892])), (array([-6.7750263]), array([3.50523881])), (array([-5.97212608]), array([3.13826056])), (array([-5.32141098]), array([2.84084093])), (array([-4.78335796]), array([2.59491529])), (array([-4.33103935]), array([2.38817591])), (array([-4.09146109]), array([2.3928177])), (array([-3.80251597]), array([2.25914697])), (array([-3.54414571]), array([2.13962066])), (array([-3.31174122]), array([2.03210655])), (array([-3.10157551]), array([1.93488045])), (array([-2.91060228]), array([1.84653311])), (array([-2.73630733]), array([1.76590142])), (array([-2.57659722]), array([1.69201691])), (array([-2.4297148]), array([1.6240667])), (array([-2.29417429]), array([1.56136344])), (array([-2.16871083]), array([1.50332199])), (array([-2.05224089]), array([1.4494411])), (array([-1.94383093]), array([1.39928887])), (array([-1.84267226]), array([1.35249122]))]\n"
     ]
    }
   ],
   "source": [
    "myBoundaryLines = trainPerceptronAlgorithm(X, y)\n",
    "print(myBoundaryLines)"
   ]
  },
  {
   "cell_type": "code",
   "execution_count": 138,
   "metadata": {},
   "outputs": [
    {
     "name": "stdout",
     "output_type": "stream",
     "text": [
      "-0.063669\n",
      "1.0\n",
      "slope: [-0.05239463]\n",
      "intercept: [-2.04919443]\n",
      "[array([[-0.05239463,  1.23772563],\n",
      "       [-2.04919443, -2.90815949]])]\n",
      "counter: 25\n"
     ]
    },
    {
     "data": {
      "image/png": "[encoded data removed]",
      "text/plain": [
       "<Figure size 432x288 with 1 Axes>"
      ]
     },
     "metadata": {
      "needs_background": "light"
     },
     "output_type": "display_data"
    }
   ],
   "source": [
    "plt.figure()\n",
    "X_min = X.min()\n",
    "print(X_min)\n",
    "X_max = X.max()\n",
    "print(X_max)\n",
    "print(\"slope: {0}\".format(myBoundaryLines[0][0]))\n",
    "print(\"intercept: {0}\".format(myBoundaryLines[0][1]))\n",
    "regression_coef = [np.hstack((myBoundaryLines[0],myBoundaryLines[1]))]\n",
    "print(regression_coef)\n",
    "#counter = len(regression_coef)\n",
    "counter = len(myBoundaryLines)\n",
    "print(\"counter: {}\".format(counter))\n",
    "#for W, b in regression_coef:\n",
    "for W, b in myBoundaryLines:\n",
    "    counter -= 1\n",
    "    color = [1 - 0.92 ** counter for _ in range(3)]\n",
    "    if counter == 1:\n",
    "        plt.plot([X_min, X_max],[X_min * W + b, X_max * W + b], color = color)\n",
    "#plt.scatter(X, y, zorder = 3)\n",
    "plt.scatter(X[:,0],X[:,1], c=y, cmap=matplotlib.colors.ListedColormap(colors))\n",
    "plt.show()"
   ]
  }
 ],
 "metadata": {
  "kernelspec": {
   "display_name": "Python 3",
   "language": "python",
   "name": "python3"
  },
  "language_info": {
   "codemirror_mode": {
    "name": "ipython",
    "version": 3
   },
   "file_extension": ".py",
   "mimetype": "text/x-python",
   "name": "python",
   "nbconvert_exporter": "python",
   "pygments_lexer": "ipython3",
   "version": "3.7.6"
  }
 },
 "nbformat": 4,
 "nbformat_minor": 4
}
